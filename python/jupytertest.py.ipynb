{
 "cells": [
  {
   "cell_type": "code",
   "execution_count": 6,
   "id": "03a9daba",
   "metadata": {},
   "outputs": [],
   "source": [
    "import pandas as pd"
   ]
  },
  {
   "cell_type": "code",
   "execution_count": 8,
   "id": "23c79b36",
   "metadata": {},
   "outputs": [],
   "source": [
    "obj2=pd.Series([5,1,-2,4,3,] ,index=[\"a\",\"b\",\"c\",\"d\",\"e\"])"
   ]
  },
  {
   "cell_type": "code",
   "execution_count": 9,
   "id": "bfbd4b4c",
   "metadata": {},
   "outputs": [
    {
     "data": {
      "text/plain": [
       "a    5\n",
       "b    1\n",
       "d    4\n",
       "e    3\n",
       "dtype: int64"
      ]
     },
     "execution_count": 9,
     "metadata": {},
     "output_type": "execute_result"
    }
   ],
   "source": [
    "obj2[obj2 > 0]"
   ]
  },
  {
   "cell_type": "code",
   "execution_count": 10,
   "id": "af0103a3",
   "metadata": {},
   "outputs": [],
   "source": [
    "data={\"Caracas\":2500000 ,\"Valencia\":1800000 ,\"Maracay\":1500000 ,\"Maracaibo\":2300000 ,\"Barquisimeto\":1600000 ,\"Tachira\":1100000}"
   ]
  },
  {
   "cell_type": "code",
   "execution_count": 12,
   "id": "10759573",
   "metadata": {},
   "outputs": [],
   "source": [
    "obj3=pd.Series(data)"
   ]
  },
  {
   "cell_type": "code",
   "execution_count": 13,
   "id": "2255724d",
   "metadata": {},
   "outputs": [
    {
     "data": {
      "text/plain": [
       "Caracas         2500000\n",
       "Valencia        1800000\n",
       "Maracay         1500000\n",
       "Maracaibo       2300000\n",
       "Barquisimeto    1600000\n",
       "Tachira         1100000\n",
       "dtype: int64"
      ]
     },
     "execution_count": 13,
     "metadata": {},
     "output_type": "execute_result"
    }
   ],
   "source": [
    "obj3"
   ]
  },
  {
   "cell_type": "code",
   "execution_count": 14,
   "id": "ab9c15f5",
   "metadata": {},
   "outputs": [],
   "source": [
    "cities=[\"Caracas\",\"Valencia\",\"Maracay\",\"Maracaibo\",\"Barquisimeto\",\"Tachira\",\"La guaira\"]"
   ]
  },
  {
   "cell_type": "code",
   "execution_count": 15,
   "id": "f77c2f3e",
   "metadata": {},
   "outputs": [],
   "source": [
    "obj4=pd.Series(data, index=cities)"
   ]
  },
  {
   "cell_type": "code",
   "execution_count": 3,
   "id": "060e38d4",
   "metadata": {},
   "outputs": [
    {
     "ename": "NameError",
     "evalue": "name 'obj4' is not defined",
     "output_type": "error",
     "traceback": [
      "\u001b[1;31m---------------------------------------------------------------------------\u001b[0m",
      "\u001b[1;31mNameError\u001b[0m                                 Traceback (most recent call last)",
      "\u001b[1;32m~\\AppData\\Local\\Temp\\ipykernel_12556\\1383780084.py\u001b[0m in \u001b[0;36m<module>\u001b[1;34m\u001b[0m\n\u001b[1;32m----> 1\u001b[1;33m \u001b[0mobj4\u001b[0m\u001b[1;33m\u001b[0m\u001b[1;33m\u001b[0m\u001b[0m\n\u001b[0m",
      "\u001b[1;31mNameError\u001b[0m: name 'obj4' is not defined"
     ]
    }
   ],
   "source": [
    "obj4"
   ]
  },
  {
   "cell_type": "code",
   "execution_count": null,
   "id": "762e6553",
   "metadata": {},
   "outputs": [],
   "source": []
  },
  {
   "cell_type": "code",
   "execution_count": 4,
   "id": "c3bccde4",
   "metadata": {},
   "outputs": [],
   "source": [
    "import pandas as pd"
   ]
  },
  {
   "cell_type": "code",
   "execution_count": 5,
   "id": "ec15f307",
   "metadata": {},
   "outputs": [],
   "source": [
    "data_cities=[\"Caracas\",\"Valencia\",\"Maracay\",\"Maracaibo\",\"Barquisimeto\",\"Tachira\",\"La guaira\"]"
   ]
  },
  {
   "cell_type": "code",
   "execution_count": 6,
   "id": "670ab48c",
   "metadata": {},
   "outputs": [],
   "source": [
    "data={\"Caracas\":2500000 ,\"Valencia\":1800000 ,\"Maracay\":1500000 ,\"Maracaibo\":2300000 ,\"Barquisimeto\":1600000 ,\"Tachira\":1100000}"
   ]
  },
  {
   "cell_type": "code",
   "execution_count": 8,
   "id": "725fce1b",
   "metadata": {},
   "outputs": [
    {
     "ename": "SyntaxError",
     "evalue": "invalid syntax (871427502.py, line 1)",
     "output_type": "error",
     "traceback": [
      "\u001b[1;36m  File \u001b[1;32m\"C:\\Users\\josse\\AppData\\Local\\Temp\\ipykernel_12556\\871427502.py\"\u001b[1;36m, line \u001b[1;32m1\u001b[0m\n\u001b[1;33m    obj1=(data,index=[data_cities])\u001b[0m\n\u001b[1;37m                    ^\u001b[0m\n\u001b[1;31mSyntaxError\u001b[0m\u001b[1;31m:\u001b[0m invalid syntax\n"
     ]
    }
   ],
   "source": [
    "obj1=(data,index=[data_cities])"
   ]
  },
  {
   "cell_type": "code",
   "execution_count": 10,
   "id": "57418423",
   "metadata": {},
   "outputs": [],
   "source": [
    "obj1=pd.Series(data, index=[data_cities])\n"
   ]
  },
  {
   "cell_type": "code",
   "execution_count": 11,
   "id": "74712498",
   "metadata": {},
   "outputs": [
    {
     "data": {
      "text/plain": [
       "Caracas        NaN\n",
       "Valencia       NaN\n",
       "Maracay        NaN\n",
       "Maracaibo      NaN\n",
       "Barquisimeto   NaN\n",
       "Tachira        NaN\n",
       "La guaira      NaN\n",
       "dtype: float64"
      ]
     },
     "execution_count": 11,
     "metadata": {},
     "output_type": "execute_result"
    }
   ],
   "source": [
    "obj1"
   ]
  },
  {
   "cell_type": "code",
   "execution_count": 12,
   "id": "df8820af",
   "metadata": {},
   "outputs": [],
   "source": [
    "obj2=pd.Series(data)"
   ]
  },
  {
   "cell_type": "code",
   "execution_count": 13,
   "id": "89559489",
   "metadata": {},
   "outputs": [
    {
     "data": {
      "text/plain": [
       "Caracas         2500000\n",
       "Valencia        1800000\n",
       "Maracay         1500000\n",
       "Maracaibo       2300000\n",
       "Barquisimeto    1600000\n",
       "Tachira         1100000\n",
       "dtype: int64"
      ]
     },
     "execution_count": 13,
     "metadata": {},
     "output_type": "execute_result"
    }
   ],
   "source": [
    "obj2"
   ]
  },
  {
   "cell_type": "code",
   "execution_count": null,
   "id": "19ba759b",
   "metadata": {},
   "outputs": [],
   "source": []
  }
 ],
 "metadata": {
  "kernelspec": {
   "display_name": "Python 3 (ipykernel)",
   "language": "python",
   "name": "python3"
  },
  "language_info": {
   "codemirror_mode": {
    "name": "ipython",
    "version": 3
   },
   "file_extension": ".py",
   "mimetype": "text/x-python",
   "name": "python",
   "nbconvert_exporter": "python",
   "pygments_lexer": "ipython3",
   "version": "3.7.8"
  }
 },
 "nbformat": 4,
 "nbformat_minor": 5
}
