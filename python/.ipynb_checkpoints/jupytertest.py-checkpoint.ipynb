{
 "cells": [
  {
   "cell_type": "code",
   "execution_count": 6,
   "id": "f8533bb0",
   "metadata": {},
   "outputs": [],
   "source": [
    "import pandas as pd"
   ]
  },
  {
   "cell_type": "code",
   "execution_count": 8,
   "id": "7dcc5a0a",
   "metadata": {},
   "outputs": [],
   "source": [
    "obj2=pd.Series([5,1,-2,4,3,] ,index=[\"a\",\"b\",\"c\",\"d\",\"e\"])"
   ]
  },
  {
   "cell_type": "code",
   "execution_count": 9,
   "id": "5f6a66aa",
   "metadata": {},
   "outputs": [
    {
     "data": {
      "text/plain": [
       "a    5\n",
       "b    1\n",
       "d    4\n",
       "e    3\n",
       "dtype: int64"
      ]
     },
     "execution_count": 9,
     "metadata": {},
     "output_type": "execute_result"
    }
   ],
   "source": [
    "obj2[obj2 > 0]"
   ]
  },
  {
   "cell_type": "code",
   "execution_count": 10,
   "id": "85dbc54a",
   "metadata": {},
   "outputs": [],
   "source": [
    "data={\"Caracas\":2500000 ,\"Valencia\":1800000 ,\"Maracay\":1500000 ,\"Maracaibo\":2300000 ,\"Barquisimeto\":1600000 ,\"Tachira\":1100000}"
   ]
  },
  {
   "cell_type": "code",
   "execution_count": 12,
   "id": "c1f46101",
   "metadata": {},
   "outputs": [],
   "source": [
    "obj3=pd.Series(data)"
   ]
  },
  {
   "cell_type": "code",
   "execution_count": 13,
   "id": "3f8b2154",
   "metadata": {},
   "outputs": [
    {
     "data": {
      "text/plain": [
       "Caracas         2500000\n",
       "Valencia        1800000\n",
       "Maracay         1500000\n",
       "Maracaibo       2300000\n",
       "Barquisimeto    1600000\n",
       "Tachira         1100000\n",
       "dtype: int64"
      ]
     },
     "execution_count": 13,
     "metadata": {},
     "output_type": "execute_result"
    }
   ],
   "source": [
    "obj3"
   ]
  },
  {
   "cell_type": "code",
   "execution_count": 14,
   "id": "2f995c16",
   "metadata": {},
   "outputs": [],
   "source": [
    "cities=[\"Caracas\",\"Valencia\",\"Maracay\",\"Maracaibo\",\"Barquisimeto\",\"Tachira\",\"La guaira\"]"
   ]
  },
  {
   "cell_type": "code",
   "execution_count": 15,
   "id": "75358886",
   "metadata": {},
   "outputs": [],
   "source": [
    "obj4=pd.Series(cities)"
   ]
  },
  {
   "cell_type": "code",
   "execution_count": null,
   "id": "33b7b062",
   "metadata": {},
   "outputs": [],
   "source": []
  }
 ],
 "metadata": {
  "kernelspec": {
   "display_name": "Python 3 (ipykernel)",
   "language": "python",
   "name": "python3"
  },
  "language_info": {
   "codemirror_mode": {
    "name": "ipython",
    "version": 3
   },
   "file_extension": ".py",
   "mimetype": "text/x-python",
   "name": "python",
   "nbconvert_exporter": "python",
   "pygments_lexer": "ipython3",
   "version": "3.7.8"
  }
 },
 "nbformat": 4,
 "nbformat_minor": 5
}
